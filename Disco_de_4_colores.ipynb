{
  "cells": [
    {
      "cell_type": "markdown",
      "metadata": {
        "id": "view-in-github",
        "colab_type": "text"
      },
      "source": [
        "<a href=\"https://colab.research.google.com/github/Vixuz144/Simulacion2/blob/main/Disco_de_4_colores.ipynb\" target=\"_parent\"><img src=\"https://colab.research.google.com/assets/colab-badge.svg\" alt=\"Open In Colab\"/></a>"
      ]
    },
    {
      "cell_type": "code",
      "execution_count": null,
      "metadata": {
        "id": "1tmwJcfzq3HQ"
      },
      "outputs": [],
      "source": [
        "import numpy as np\n",
        "from random import random, randint\n",
        "from numba import jit"
      ]
    },
    {
      "cell_type": "code",
      "execution_count": null,
      "metadata": {
        "id": "wd541tutrEQp"
      },
      "outputs": [],
      "source": [
        "\n",
        "@jit(nopython=True)\n",
        "def disco(n=100):\n",
        "  i = randint(0,3)\n",
        "  for k in range(n):\n",
        "    r = randint(0,1) + randint(0,1)\n",
        "    i = (i+r)%4\n",
        "  return i"
      ]
    },
    {
      "cell_type": "code",
      "execution_count": null,
      "metadata": {
        "id": "zl2h-eTBs4Xh"
      },
      "outputs": [],
      "source": [
        "@jit(nopython=True)\n",
        "def repetir(m):\n",
        "  r, a, v, n = 0, 0, 0, 0\n",
        "  for i in range(m):\n",
        "    d = disco()\n",
        "    match d:\n",
        "      case 0:\n",
        "        n += 1\n",
        "      case 1:\n",
        "        r += 1\n",
        "      case 2:\n",
        "        a += 1\n",
        "      case 3:\n",
        "        v += 1\n",
        "  return n/m, r/m, a/m, v/m"
      ]
    },
    {
      "cell_type": "code",
      "execution_count": null,
      "metadata": {
        "colab": {
          "background_save": true
        },
        "id": "NJq775p7xv27",
        "outputId": "50e56d49-97bd-4d9e-fc63-93386780bdb1"
      },
      "outputs": [
        {
          "data": {
            "text/plain": [
              "(0.24995444, 0.24999748, 0.25003368, 0.2500144)"
            ]
          },
          "execution_count": 37,
          "metadata": {},
          "output_type": "execute_result"
        }
      ],
      "source": [
        "repetir(10**8)"
      ]
    }
  ],
  "metadata": {
    "colab": {
      "provenance": [],
      "authorship_tag": "ABX9TyNQNJXWP1k9DJ0QezL+3tr9",
      "include_colab_link": true
    },
    "kernelspec": {
      "display_name": "Python 3",
      "name": "python3"
    },
    "language_info": {
      "name": "python"
    }
  },
  "nbformat": 4,
  "nbformat_minor": 0
}